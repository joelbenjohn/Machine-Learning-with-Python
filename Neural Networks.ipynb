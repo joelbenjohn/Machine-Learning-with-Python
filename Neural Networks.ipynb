{
 "cells": [
  {
   "cell_type": "markdown",
   "id": "2d12f9ea",
   "metadata": {},
   "source": [
    "## Neural Networks with Tensor Flow\n",
    "\n",
    "A Computational Neural Network is a computing technique which is capable of being trained on data of interests and provide predictions based on input.\n",
    "\n",
    "INPUT LAYER -> HIDDEN LAYERS(COMPOSED OF OTHER INPUT->OUTPUT LAYERS) -> OUTPUT LAYERS\n",
    "\n",
    "BIAS INPUT NODE independent of INPUT LAYERS to connect to NEXT Layer"
   ]
  },
  {
   "cell_type": "markdown",
   "id": "a7815c3e",
   "metadata": {},
   "source": [
    "### Activation Functions\n",
    "\n",
    "- RELU (Rectified Linear Unit)\n",
    "    - Negative Values : Zero\n",
    "    - Positive Values : Scaled\n",
    "- Tanh (Hyperbolic Tangent) -\n",
    "    - Scales values in range (-1, 1)\n",
    "- Sigmioid\n",
    "    - Scales values in range (0, 1)\n",
    "    - $\\phi (z) = \\dfrac{1}{1+e^{-z}}$\n",
    "\n",
    "### Optimizer Functions\n",
    "\n",
    "Algorithms used to implememet back propogation.\n",
    "- Gradient Descent\n",
    "- Stochastic Gradient Descent\n",
    "- Mini-Batch Gradient Descent\n",
    "- Momentum\n",
    "- Nesterov Accelerated Gradient\n",
    "\n",
    "*This article explains well\n",
    "https://medium.com/@sdoshi579/optimizers-for-training-neural-network-59450d71caf6\n"
   ]
  },
  {
   "cell_type": "code",
   "execution_count": 1,
   "id": "ab2d667e",
   "metadata": {},
   "outputs": [],
   "source": [
    "import tensorflow as tf\n",
    "from tensorflow import keras\n",
    "\n",
    "#Helpers\n",
    "import numpy as np\n",
    "import matplotlib.pyplot as plt\n"
   ]
  },
  {
   "cell_type": "markdown",
   "id": "19e548f0",
   "metadata": {},
   "source": [
    "### Dataset\n",
    "\n",
    "Fashipn MNIST Dataset\n"
   ]
  },
  {
   "cell_type": "code",
   "execution_count": 2,
   "id": "1917b221",
   "metadata": {},
   "outputs": [],
   "source": [
    "fashion_mnist = keras.datasets.fashion_mnist\n",
    "\n",
    "(train_images, train_labels), (test_images, test_labels) = fashion_mnist.load_data()"
   ]
  },
  {
   "cell_type": "code",
   "execution_count": 3,
   "id": "b166e128",
   "metadata": {},
   "outputs": [
    {
     "data": {
      "text/plain": [
       "(60000, 28, 28)"
      ]
     },
     "execution_count": 3,
     "metadata": {},
     "output_type": "execute_result"
    }
   ],
   "source": [
    "#Number of images of pixels by pixels shape\n",
    "train_images.shape"
   ]
  },
  {
   "cell_type": "code",
   "execution_count": 4,
   "id": "667a6e0a",
   "metadata": {},
   "outputs": [
    {
     "data": {
      "text/plain": [
       "194"
      ]
     },
     "execution_count": 4,
     "metadata": {},
     "output_type": "execute_result"
    }
   ],
   "source": [
    "## Look at one pixel\n",
    "train_images[0, 23, 23]\n",
    "\n",
    "##Value in grayscale range of 0-255\n",
    "#0-white\n",
    "#255 - black"
   ]
  },
  {
   "cell_type": "code",
   "execution_count": 5,
   "id": "89c35c28",
   "metadata": {},
   "outputs": [
    {
     "data": {
      "text/plain": [
       "array([9, 0, 0, 3, 0, 2, 7, 2, 5, 5], dtype=uint8)"
      ]
     },
     "execution_count": 5,
     "metadata": {},
     "output_type": "execute_result"
    }
   ],
   "source": [
    "train_labels[:10]"
   ]
  },
  {
   "cell_type": "code",
   "execution_count": 6,
   "id": "51aa07b2",
   "metadata": {},
   "outputs": [],
   "source": [
    "class_names = ['T-shirt/top', 'Trouser', 'Pullover', 'Dress', 'Coat', \n",
    "              'Sandal', 'Shirt', 'Sneaker', 'Bag', 'Ankle boot']"
   ]
  },
  {
   "cell_type": "code",
   "execution_count": 7,
   "id": "c2504352",
   "metadata": {},
   "outputs": [
    {
     "data": {
      "image/png": "[encoded data removed]",
      "text/plain": [
       "<Figure size 640x480 with 2 Axes>"
      ]
     },
     "metadata": {},
     "output_type": "display_data"
    }
   ],
   "source": [
    "plt.figure()\n",
    "plt.imshow(train_images[10])\n",
    "plt.colorbar()\n",
    "plt.grid(False)\n",
    "plt.show()"
   ]
  },
  {
   "cell_type": "markdown",
   "id": "03332ded",
   "metadata": {},
   "source": [
    "### Data Preprocessing\n"
   ]
  },
  {
   "cell_type": "code",
   "execution_count": 8,
   "id": "db98a892",
   "metadata": {},
   "outputs": [],
   "source": [
    "train_images = train_images/255.0\n",
    "\n",
    "test_images = test_images/255.0"
   ]
  },
  {
   "cell_type": "markdown",
   "id": "02b21060",
   "metadata": {},
   "source": [
    "### Building the Model"
   ]
  },
  {
   "cell_type": "code",
   "execution_count": 9,
   "id": "eea8b1b8",
   "metadata": {},
   "outputs": [],
   "source": [
    "## Implementing Sequential Neural Networks\n",
    "model = keras.Sequential([\n",
    "    keras.layers.Flatten(input_shape = (28, 28)), #input layer\n",
    "    keras.layers.Dense(128, activation = 'relu'), #hidden layer #128 nodes #rectified linear unit activation function\n",
    "    keras.layers.Dense(10, activation = 'softmax') #output layer #softmax-will make sure all the values of neurons add to one\n",
    "])"
   ]
  },
  {
   "cell_type": "markdown",
   "id": "9f7daf93",
   "metadata": {},
   "source": [
    "### Compile the Model\n"
   ]
  },
  {
   "cell_type": "code",
   "execution_count": 10,
   "id": "a46fc7e6",
   "metadata": {},
   "outputs": [],
   "source": [
    "model.compile(optimizer = 'adam', \n",
    "             loss = 'sparse_categorical_crossentropy',\n",
    "             metrics = ['accuracy']) "
   ]
  },
  {
   "cell_type": "markdown",
   "id": "01b24e30",
   "metadata": {},
   "source": [
    "### Training the Model"
   ]
  },
  {
   "cell_type": "code",
   "execution_count": 11,
   "id": "b95521e5",
   "metadata": {},
   "outputs": [
    {
     "name": "stdout",
     "output_type": "stream",
     "text": [
      "1875/1875 [==============================] - 4s 2ms/step - loss: 0.4965 - accuracy: 0.8268\n"
     ]
    },
    {
     "data": {
      "text/plain": [
       "<keras.callbacks.History at 0x22cda050df0>"
      ]
     },
     "execution_count": 11,
     "metadata": {},
     "output_type": "execute_result"
    }
   ],
   "source": [
    "model.fit(train_images, train_labels, epochs = 1)"
   ]
  },
  {
   "cell_type": "markdown",
   "id": "287c919f",
   "metadata": {},
   "source": [
    "### Evaluate the Model"
   ]
  },
  {
   "cell_type": "code",
   "execution_count": 12,
   "id": "54dea52d",
   "metadata": {},
   "outputs": [
    {
     "name": "stdout",
     "output_type": "stream",
     "text": [
      "313/313 [==============================] - 0s 1ms/step - loss: 0.4259 - accuracy: 0.8457\n"
     ]
    }
   ],
   "source": [
    "test_loss, test_acc = model.evaluate(test_images, test_labels, verbose = 1)"
   ]
  },
  {
   "cell_type": "code",
   "execution_count": 13,
   "id": "45949541",
   "metadata": {},
   "outputs": [
    {
     "name": "stdout",
     "output_type": "stream",
     "text": [
      "Test accuracy :  0.8457000255584717\n"
     ]
    }
   ],
   "source": [
    "print('Test accuracy : ', test_acc)"
   ]
  },
  {
   "cell_type": "markdown",
   "id": "3b82afca",
   "metadata": {},
   "source": [
    "Accuracy found for testing data lower than training data. This could be indicating overfitting on training data.\n",
    "\n",
    "Try tweaking numer of epochs to check accuracy"
   ]
  },
  {
   "cell_type": "markdown",
   "id": "0e96b2dd",
   "metadata": {},
   "source": [
    "## Prediction"
   ]
  },
  {
   "cell_type": "code",
   "execution_count": 14,
   "id": "77345d55",
   "metadata": {},
   "outputs": [
    {
     "name": "stdout",
     "output_type": "stream",
     "text": [
      "313/313 [==============================] - 0s 928us/step\n"
     ]
    }
   ],
   "source": [
    "predictions = model.predict(test_images)\n",
    "\n",
    "\n"
   ]
  },
  {
   "cell_type": "code",
   "execution_count": null,
   "id": "1cc2ea64",
   "metadata": {},
   "outputs": [],
   "source": []
  },
  {
   "cell_type": "code",
   "execution_count": 15,
   "id": "ed39f86b",
   "metadata": {},
   "outputs": [
    {
     "name": "stdout",
     "output_type": "stream",
     "text": [
      "[1.4479151e-05 9.2902775e-07 1.1395215e-05 6.7827345e-06 1.5795987e-06\n",
      " 6.3206971e-02 5.7508082e-06 1.2466963e-01 5.0668539e-03 8.0701566e-01]\n",
      "9\n",
      "Ankle boot\n"
     ]
    },
    {
     "data": {
      "image/png": "[encoded data removed]",
      "text/plain": [
       "<Figure size 640x480 with 2 Axes>"
      ]
     },
     "metadata": {},
     "output_type": "display_data"
    }
   ],
   "source": [
    "checkTest = 0\n",
    "print(predictions[checkTest])\n",
    "print(np.argmax(predictions[checkTest]))\n",
    "print(class_names[np.argmax(predictions[checkTest])])\n",
    "plt.figure()\n",
    "plt.imshow(test_images[checkTest])\n",
    "plt.colorbar()\n",
    "plt.grid(False)\n",
    "plt.show()"
   ]
  },
  {
   "cell_type": "markdown",
   "id": "cc9b6a88",
   "metadata": {},
   "source": [
    "# Test the trained model"
   ]
  },
  {
   "cell_type": "code",
   "execution_count": 16,
   "id": "1006db9d",
   "metadata": {},
   "outputs": [
    {
     "name": "stdout",
     "output_type": "stream",
     "text": [
      "Pick a number: 0.4\n",
      "Try again : \n",
      "Pick a number: 0.3\n",
      "Try again : \n",
      "Pick a number: 0.2\n",
      "Try again : \n",
      "Pick a number: 1\n",
      "1/1 [==============================] - 0s 28ms/step\n",
      "Expected: Pullover\n",
      "Guess: Pullover\n"
     ]
    },
    {
     "data": {
      "image/png": "[encoded data removed]",
      "text/plain": [
       "<Figure size 640x480 with 2 Axes>"
      ]
     },
     "metadata": {},
     "output_type": "display_data"
    }
   ],
   "source": [
    "COLOR = 'white'\n",
    "plt.rcParams['text.color'] = COLOR\n",
    "plt.rcParams['axes.labelcolor'] = COLOR\n",
    "\n",
    "def predict(model, image, correct_label):\n",
    "    class_names = ['T-shirt/top', 'Trouser', 'Pullover', 'Dress', 'Coat', \n",
    "              'Sandal', 'Shirt', 'Sneaker', 'Bag', 'Ankle boot']\n",
    "    predictions = model.predict(np.array([image]))\n",
    "    predicted_class = class_names[np.argmax(predictions)]\n",
    "    \n",
    "    show_image(image, class_names[correct_label], predicted_class)\n",
    "    \n",
    "def show_image(img, label, guess):\n",
    "    plt.figure()\n",
    "    plt.imshow(img, cmap = plt.cm.binary)\n",
    "    print(\"Expected: \" +label)\n",
    "    print(\"Guess: \" + guess)\n",
    "    plt.colorbar()\n",
    "    plt.grid(False)\n",
    "    plt.show()\n",
    "    \n",
    "def get_number():\n",
    "    while True:\n",
    "        num = input(\"Pick a number: \")\n",
    "        if num.isdigit():\n",
    "            num = int(num)\n",
    "            if 0<= num <= 100:\n",
    "                return int(num)\n",
    "        else:\n",
    "            print(\"Try again : \")\n",
    "            \n",
    "num = get_number()\n",
    "image = test_images[num]\n",
    "label = test_labels[num]\n",
    "predict(model, image, label)\n",
    "                "
   ]
  },
  {
   "cell_type": "code",
   "execution_count": null,
   "id": "8939715f",
   "metadata": {},
   "outputs": [],
   "source": []
  }
 ],
 "metadata": {
  "kernelspec": {
   "display_name": "Python 3 (ipykernel)",
   "language": "python",
   "name": "python3"
  },
  "language_info": {
   "codemirror_mode": {
    "name": "ipython",
    "version": 3
   },
   "file_extension": ".py",
   "mimetype": "text/x-python",
   "name": "python",
   "nbconvert_exporter": "python",
   "pygments_lexer": "ipython3",
   "version": "3.8.10"
  }
 },
 "nbformat": 4,
 "nbformat_minor": 5
}
