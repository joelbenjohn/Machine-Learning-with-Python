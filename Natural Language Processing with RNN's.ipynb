{
 "cells": [
  {
   "cell_type": "markdown",
   "id": "4ee05ab1",
   "metadata": {},
   "source": [
    "# Natural Language Processing \n",
    "NLP is a discipline in computing that deals with the communication between human languages and computer languages\n",
    "\n",
    "### Recurrent Neural Networks\n",
    "\n",
    "Neural networks that are more capable of processing sequential data such as text or characters are called **recurrent neural network** (RNN for short). \n",
    "\n",
    "Reccurent neural network can to do the following:\n",
    "- Sentiment Analysis\n",
    "- Character Generation \n",
    "\n",
    "RNN's are complex and come in many different forms so in this tutorial we wil focus on how they work and the kind of problems they are best suited for.\n",
    "\n",
    "## Sequence Data\n",
    "In this tutorial we will look at sequences of text and learn how we can encode them in a meaningful way. Unlike images, sequence data such as long chains of text, weather patterns, videos and really anything where the notion of a step or time is relevant needs to be processed and handled in a special way. \n",
    "\n",
    "But what do I mean by sequences and why is text data a sequence? Well that's a good question. Since textual data contains many words that follow in a very specific and meaningful order, we need to be able to keep track of each word and when it occurs in the data. Simply encoding say an entire paragraph of text into one data point wouldn't give us a very meaningful picture of the data and would be very difficult to do anything with. This is why we treat text as a sequence and process one word at a time. We will keep track of where each of these words appear and use that information to try to understand the meaning of peices of text.\n",
    "\n",
    "## Encoding Text\n",
    "As we know machine learning models and neural networks don't take raw text data as an input. This means we must somehow encode our textual data to numeric values that our models can understand. There are many different ways of doing this and we will look at a few examples below. \n",
    "\n",
    "Before we get into the different encoding/preprocessing methods let's understand the information we can get from textual data by looking at the following two movie reviews.\n",
    "\n",
    "```I thought the movie was going to be bad, but it was actually amazing!```\n",
    "\n",
    "```I thought the movie was going to be amazing, but it was actually bad!```\n",
    "\n",
    "Although these two setences are very similar we know that they have very different meanings. This is because of the **ordering** of words, a very important property of textual data.\n",
    "\n",
    "Now keep that in mind while we consider some different ways of encoding our textual data.\n",
    "\n",
    "### Bag of Words\n",
    "The first and simplest way to encode our data is to use something called **bag of words**. This is a pretty easy technique where each word in a sentence is encoded with an integer and thrown into a collection that does not maintain the order of the words but does keep track of the frequency. Have a look at the python function below that encodes a string of text into bag of words. "
   ]
  },
  {
   "cell_type": "code",
   "execution_count": 2,
   "id": "d62e8698",
   "metadata": {},
   "outputs": [
    {
     "name": "stdout",
     "output_type": "stream",
     "text": [
      "{1: 2, 2: 3, 3: 3, 4: 3, 5: 1, 6: 1, 7: 1, 8: 1, 9: 1}\n",
      "{'this': 1, 'is': 2, 'a': 3, 'test': 4, 'to': 5, 'see': 6, 'if': 7, 'will': 8, 'work': 9}\n"
     ]
    }
   ],
   "source": [
    "vocab = {}  # maps word to integer representing it\n",
    "word_encoding = 1\n",
    "def bag_of_words(text):\n",
    "  global word_encoding\n",
    "\n",
    "  words = text.lower().split(\" \")  # create a list of all of the words in the text, well assume there is no grammar in our text for this example\n",
    "  bag = {}  # stores all of the encodings and their frequency\n",
    "\n",
    "  for word in words:\n",
    "    if word in vocab:\n",
    "      encoding = vocab[word]  # get encoding from vocab\n",
    "    else:\n",
    "      vocab[word] = word_encoding\n",
    "      encoding = word_encoding\n",
    "      word_encoding += 1\n",
    "    \n",
    "    if encoding in bag:\n",
    "      bag[encoding] += 1\n",
    "    else:\n",
    "      bag[encoding] = 1\n",
    "  \n",
    "  return bag\n",
    "\n",
    "text = \"this is a test to see if this test will work is is test a a\"\n",
    "bag = bag_of_words(text)\n",
    "print(bag)\n",
    "print(vocab)"
   ]
  },
  {
   "cell_type": "code",
   "execution_count": 3,
   "id": "8d19a689",
   "metadata": {},
   "outputs": [
    {
     "name": "stdout",
     "output_type": "stream",
     "text": [
      "Positive: {10: 1, 11: 1, 12: 1, 13: 1, 14: 2, 15: 1, 5: 1, 16: 1, 17: 1, 18: 1, 19: 1, 20: 1, 21: 1}\n",
      "Negative: {10: 1, 11: 1, 12: 1, 13: 1, 14: 2, 15: 1, 5: 1, 16: 1, 21: 1, 18: 1, 19: 1, 20: 1, 17: 1}\n"
     ]
    }
   ],
   "source": [
    "positive_review = \"I thought the movie was going to be bad but it was actually amazing\"\n",
    "negative_review = \"I thought the movie was going to be amazing but it was actually bad\"\n",
    "\n",
    "pos_bag = bag_of_words(positive_review)\n",
    "neg_bag = bag_of_words(negative_review)\n",
    "\n",
    "print(\"Positive:\", pos_bag)\n",
    "print(\"Negative:\", neg_bag)"
   ]
  },
  {
   "cell_type": "markdown",
   "id": "2820b0c9",
   "metadata": {},
   "source": [
    "We can see that even though these sentences have a very different meaning they are encoded exaclty the same way. Obviously, this isn't going to fly. Let's look at some other methods.\n",
    "\n",
    "## Integer Encoding\n",
    "The next technique we will look at is called **integer encoding**. This involves representing each word or character in a sentence as a unique integer and maintaining the order of these words. This should hopefully fix the problem we saw before were we lost the order of words."
   ]
  },
  {
   "cell_type": "code",
   "execution_count": 4,
   "id": "a151501c",
   "metadata": {},
   "outputs": [
    {
     "name": "stdout",
     "output_type": "stream",
     "text": [
      "[1, 2, 3, 4, 5, 6, 7, 1, 4, 8, 9, 2, 2, 4, 3, 3]\n",
      "{'this': 1, 'is': 2, 'a': 3, 'test': 4, 'to': 5, 'see': 6, 'if': 7, 'will': 8, 'work': 9}\n"
     ]
    }
   ],
   "source": [
    "vocab = {}  \n",
    "word_encoding = 1\n",
    "\n",
    "def one_hot_encoding(text):\n",
    "    \n",
    "  global word_encoding\n",
    "\n",
    "  words = text.lower().split(\" \") \n",
    "  encoding = []  \n",
    "\n",
    "  for word in words:\n",
    "    if word in vocab:\n",
    "      code = vocab[word]  \n",
    "      encoding.append(code) \n",
    "    else:\n",
    "      vocab[word] = word_encoding\n",
    "      encoding.append(word_encoding)\n",
    "      word_encoding += 1\n",
    "  \n",
    "  return encoding\n",
    "\n",
    "text = \"this is a test to see if this test will work is is test a a\"\n",
    "encoding = one_hot_encoding(text)\n",
    "print(encoding)\n",
    "print(vocab)"
   ]
  },
  {
   "cell_type": "code",
   "execution_count": 5,
   "id": "40065ca2",
   "metadata": {},
   "outputs": [
    {
     "name": "stdout",
     "output_type": "stream",
     "text": [
      "Positive: [10, 11, 12, 13, 14, 15, 5, 16, 17, 18, 19, 14, 20, 21]\n",
      "Negative: [10, 11, 12, 13, 14, 15, 5, 16, 21, 18, 19, 14, 20, 17]\n"
     ]
    }
   ],
   "source": [
    "positive_review = \"I thought the movie was going to be bad but it was actually amazing\"\n",
    "negative_review = \"I thought the movie was going to be amazing but it was actually bad\"\n",
    "\n",
    "pos_encode = one_hot_encoding(positive_review)\n",
    "neg_encode = one_hot_encoding(negative_review)\n",
    "\n",
    "print(\"Positive:\", pos_encode)\n",
    "print(\"Negative:\", neg_encode)"
   ]
  },
  {
   "cell_type": "markdown",
   "id": "e896686a",
   "metadata": {},
   "source": [
    "Much better, now we are keeping track of the order of words and we can tell where each occurs. But this still has a few issues with it. Ideally when we encode words, we would like similar words to have similar labels and different words to have very different labels. For example, the words happy and joyful should probably have very similar labels so we can determine that they are similar. While words like horrible and amazing should probably have very different labels. The method we looked at above won't be able to do something like this for us. This could mean that the model will have a very difficult time determing if two words are similar or not which could result in some pretty drastic performace impacts.\n",
    "\n",
    "## Word Embeddings\n",
    "Luckily there is a third method that is far superior, **word embeddings**. This method keeps the order of words intact as well as encodes similar words with very similar labels. It attempts to not only encode the frequency and order of words but the meaning of those words in the sentence. It encodes each word as a dense vector that represents its context in the sentence.\n",
    "\n",
    "Unlike the previous techniques word embeddings are learned by looking at many different training examples. You can add what's called an embedding layer to the beggining of your model and while your model trains your embedding layer will learn the correct embeddings for words. You can also use pretrained embedding layers.\n",
    "\n",
    "## Recurrent Neural Networks (RNN's)\n",
    "Now that we've learned a little bit about how we can encode text it's time to dive into recurrent neural networks. Up until this point we have been using something called **feed-forward** neural networks. This simply means that all our data is fed forwards (all at once) from left to right through the network. This was fine for the problems we considered before but won't work very well for processing text. After all, even we (humans) don't process text all at once. We read word by word from left to right and keep track of the current meaning of the sentence so we can understand the meaning of the next word. Well this is exaclty what a recurrent neural network is designed to do. When we say recurrent neural network all we really mean is a network that contains a loop. A RNN will process one word at a time while maintaining an internal memory of what it's already seen. This will allow it to treat words differently based on their order in a sentence and to slowly build an understanding of the entire input, one word at a time.\n",
    "\n",
    "This is why we are treating our text data as a sequence! So that we can pass one word at a time to the RNN.\n",
    "\n",
    "Let's have a look at what a recurrent layer might look like.\n",
    "\n",
    "![alt text](https://colah.github.io/posts/2015-08-Understanding-LSTMs/img/RNN-unrolled.png)\n",
    "*Source: https://colah.github.io/posts/2015-08-Understanding-LSTMs/*\n",
    "\n",
    "Let's define what all these variables stand for before we get into the explination.\n",
    "\n",
    "**h<sub>t</sub>** output at time t\n",
    "\n",
    "**x<sub>t</sub>** input at time t\n",
    "\n",
    "**A** Recurrent Layer (loop)\n",
    "\n",
    "What this diagram is trying to illustrate is that a recurrent layer processes words or input one at a time in a combination with the output from the previous iteration. So, as we progress further in the input sequence, we build a more complex understanding of the text as a whole.\n",
    "\n",
    "What we've just looked at is called a **simple RNN layer**. It can be effective at processing shorter sequences of text for simple problems but has many downfalls associated with it. One of them being the fact that as text sequences get longer it gets increasingly difficult for the network to understand the text properly.\n",
    "\n",
    "## LSTM\n",
    "The layer we dicussed in depth above was called a *simpleRNN*. However, there does exist some other recurrent layers (layers that contain a loop) that work much better than a simple RNN layer. The one we will talk about here is called LSTM (Long Short-Term Memory). This layer works very similarily to the simpleRNN layer but adds a way to access inputs from any timestep in the past. Whereas in our simple RNN layer input from previous timestamps gradually disappeared as we got further through the input. With a LSTM we have a long-term memory data structure storing all the previously seen inputs as well as when we saw them. This allows for us to access any previous value we want at any point in time. This adds to the complexity of our network and allows it to discover more useful relationships between inputs and when they appear. \n",
    "\n",
    "For the purpose of this course we will refrain from going any further into the math or details behind how these layers work.\n",
    "\n",
    "\n",
    "## Sentiment Analysis\n",
    "And now time to see a recurrent neural network in action. For this example, we are going to do something called sentiment analysis.\n",
    "\n",
    "The formal definition of this term from Wikipedia is as follows:\n",
    "\n",
    "*the process of computationally identifying and categorizing opinions expressed in a piece of text, especially in order to determine whether the writer's attitude towards a particular topic, product, etc. is positive, negative, or neutral.*\n",
    "\n",
    "The example we’ll use here is classifying movie reviews as either postive, negative or neutral.\n",
    "\n",
    "*This guide is based on the following tensorflow tutorial: https://www.tensorflow.org/tutorials/text/text_classification_rnn*\n",
    "\n",
    "### Movie Review Dataset\n",
    "Well start by loading in the IMDB movie review dataset from keras. This dataset contains 25,000 reviews from IMDB where each one is already preprocessed and has a label as either positive or negative. Each review is encoded by integers that represents how common a word is in the entire dataset. For example, a word encoded by the integer 3 means that it is the 3rd most common word in the dataset.\n",
    " \n",
    "\n",
    "\n"
   ]
  },
  {
   "cell_type": "code",
   "execution_count": 5,
   "id": "abd94613",
   "metadata": {},
   "outputs": [],
   "source": [
    "# %tensorflow_version 2.x  # this line is not required unless you are in a notebook\n",
    "from keras.datasets import imdb\n",
    "from keras.preprocessing import sequence\n",
    "import keras\n",
    "import tensorflow as tf\n",
    "import os\n",
    "import numpy as np\n",
    "\n",
    "VOCAB_SIZE = 88584\n",
    "\n",
    "MAXLEN = 250\n",
    "BATCH_SIZE = 64\n",
    "\n",
    "(train_data, train_labels), (test_data, test_labels) = imdb.load_data(num_words = VOCAB_SIZE)"
   ]
  },
  {
   "cell_type": "code",
   "execution_count": 11,
   "id": "53bc5071",
   "metadata": {},
   "outputs": [],
   "source": [
    "from keras.utils import pad_sequences\n",
    "train_data = pad_sequences(train_data, MAXLEN)\n",
    "test_data = pad_sequences(test_data, MAXLEN)"
   ]
  },
  {
   "cell_type": "markdown",
   "id": "80ab8803",
   "metadata": {},
   "source": [
    "### Creating the Model\n",
    "Now it's time to create the model. We'll use a word embedding layer as the first layer in our model and add a LSTM layer afterwards that feeds into a dense node to get our predicted sentiment. \n",
    "\n",
    "32 stands for the output dimension of the vectors generated by the embedding layer. We can change this value if we'd like!\n",
    "\n"
   ]
  },
  {
   "cell_type": "code",
   "execution_count": 13,
   "id": "3061bd59",
   "metadata": {},
   "outputs": [
    {
     "name": "stdout",
     "output_type": "stream",
     "text": [
      "Model: \"sequential_1\"\n",
      "_________________________________________________________________\n",
      " Layer (type)                Output Shape              Param #   \n",
      "=================================================================\n",
      " embedding_1 (Embedding)     (None, None, 32)          2834688   \n",
      "                                                                 \n",
      " lstm_1 (LSTM)               (None, 32)                8320      \n",
      "                                                                 \n",
      " dense_1 (Dense)             (None, 1)                 33        \n",
      "                                                                 \n",
      "=================================================================\n",
      "Total params: 2,843,041\n",
      "Trainable params: 2,843,041\n",
      "Non-trainable params: 0\n",
      "_________________________________________________________________\n"
     ]
    }
   ],
   "source": [
    "model = tf.keras.Sequential([\n",
    "    tf.keras.layers.Embedding(VOCAB_SIZE, 32),\n",
    "    tf.keras.layers.LSTM(32),\n",
    "    tf.keras.layers.Dense(1, activation=\"sigmoid\")\n",
    "])\n",
    "model.summary()"
   ]
  },
  {
   "cell_type": "markdown",
   "id": "d2a52d2c",
   "metadata": {},
   "source": [
    "### Training\n",
    "Now it's time to compile and train the model. "
   ]
  },
  {
   "cell_type": "code",
   "execution_count": 14,
   "id": "adf39417",
   "metadata": {},
   "outputs": [
    {
     "name": "stdout",
     "output_type": "stream",
     "text": [
      "Epoch 1/10\n",
      "625/625 [==============================] - 64s 99ms/step - loss: 0.4427 - acc: 0.7901 - val_loss: 0.3016 - val_acc: 0.8774\n",
      "Epoch 2/10\n",
      "625/625 [==============================] - 86s 138ms/step - loss: 0.2609 - acc: 0.9009 - val_loss: 0.3133 - val_acc: 0.8648\n",
      "Epoch 3/10\n",
      "625/625 [==============================] - 93s 149ms/step - loss: 0.1997 - acc: 0.9257 - val_loss: 0.3372 - val_acc: 0.8786\n",
      "Epoch 4/10\n",
      "625/625 [==============================] - 95s 153ms/step - loss: 0.1640 - acc: 0.9413 - val_loss: 0.3123 - val_acc: 0.8772\n",
      "Epoch 5/10\n",
      "625/625 [==============================] - 97s 155ms/step - loss: 0.1381 - acc: 0.9517 - val_loss: 0.3071 - val_acc: 0.8808\n",
      "Epoch 6/10\n",
      "625/625 [==============================] - 97s 155ms/step - loss: 0.1139 - acc: 0.9625 - val_loss: 0.3782 - val_acc: 0.8872\n",
      "Epoch 7/10\n",
      "625/625 [==============================] - 92s 148ms/step - loss: 0.0973 - acc: 0.9682 - val_loss: 0.4011 - val_acc: 0.8774\n",
      "Epoch 8/10\n",
      "625/625 [==============================] - 93s 148ms/step - loss: 0.0813 - acc: 0.9743 - val_loss: 0.4523 - val_acc: 0.8566\n",
      "Epoch 9/10\n",
      "625/625 [==============================] - 93s 149ms/step - loss: 0.0664 - acc: 0.9790 - val_loss: 0.3885 - val_acc: 0.8678\n",
      "Epoch 10/10\n",
      "625/625 [==============================] - 93s 149ms/step - loss: 0.0614 - acc: 0.9806 - val_loss: 0.3874 - val_acc: 0.8594\n"
     ]
    }
   ],
   "source": [
    "model.compile(loss=\"binary_crossentropy\",optimizer=\"rmsprop\",metrics=['acc'])\n",
    "\n",
    "history = model.fit(train_data, train_labels, epochs=10, validation_split=0.2)"
   ]
  },
  {
   "cell_type": "markdown",
   "id": "a0c656f2",
   "metadata": {},
   "source": [
    "And we'll evaluate the model on our training data to see how well it performs."
   ]
  },
  {
   "cell_type": "code",
   "execution_count": 15,
   "id": "c84010d4",
   "metadata": {},
   "outputs": [
    {
     "name": "stdout",
     "output_type": "stream",
     "text": [
      "782/782 [==============================] - 46s 59ms/step - loss: 0.4377 - acc: 0.8476\n",
      "[0.43766528367996216, 0.847599983215332]\n"
     ]
    }
   ],
   "source": [
    "results = model.evaluate(test_data, test_labels)\n",
    "print(results)"
   ]
  },
  {
   "cell_type": "markdown",
   "id": "9cffc5b0",
   "metadata": {},
   "source": [
    "So we're scoring somewhere in the mid-high 80's. Not bad for a simple recurrent network.\n",
    "\n",
    "### Making Predictions\n",
    "Now let’s use our network to make predictions on our own reviews. \n",
    "\n",
    "Since our reviews are encoded well need to convert any review that we write into that form so the network can understand it. To do that well load the encodings from the dataset and use them to encode our own data.\n",
    "\n",
    "\n"
   ]
  },
  {
   "cell_type": "code",
   "execution_count": 17,
   "id": "e6f2fcc4",
   "metadata": {},
   "outputs": [
    {
     "name": "stdout",
     "output_type": "stream",
     "text": [
      "[  0   0   0   0   0   0   0   0   0   0   0   0   0   0   0   0   0   0\n",
      "   0   0   0   0   0   0   0   0   0   0   0   0   0   0   0   0   0   0\n",
      "   0   0   0   0   0   0   0   0   0   0   0   0   0   0   0   0   0   0\n",
      "   0   0   0   0   0   0   0   0   0   0   0   0   0   0   0   0   0   0\n",
      "   0   0   0   0   0   0   0   0   0   0   0   0   0   0   0   0   0   0\n",
      "   0   0   0   0   0   0   0   0   0   0   0   0   0   0   0   0   0   0\n",
      "   0   0   0   0   0   0   0   0   0   0   0   0   0   0   0   0   0   0\n",
      "   0   0   0   0   0   0   0   0   0   0   0   0   0   0   0   0   0   0\n",
      "   0   0   0   0   0   0   0   0   0   0   0   0   0   0   0   0   0   0\n",
      "   0   0   0   0   0   0   0   0   0   0   0   0   0   0   0   0   0   0\n",
      "   0   0   0   0   0   0   0   0   0   0   0   0   0   0   0   0   0   0\n",
      "   0   0   0   0   0   0   0   0   0   0   0   0   0   0   0   0   0   0\n",
      "   0   0   0   0   0   0   0   0   0   0   0   0   0   0   0   0   0   0\n",
      "   0   0   0   0   0   0   0   0   0  12  17  13  40 477  35 477]\n"
     ]
    }
   ],
   "source": [
    "word_index = imdb.get_word_index()\n",
    "\n",
    "def encode_text(text):\n",
    "  tokens = keras.preprocessing.text.text_to_word_sequence(text)\n",
    "  tokens = [word_index[word] if word in word_index else 0 for word in tokens]\n",
    "  return pad_sequences([tokens], MAXLEN)[0]\n",
    "\n",
    "text = \"that movie was just amazing, so amazing\"\n",
    "encoded = encode_text(text)\n",
    "print(encoded)\n"
   ]
  },
  {
   "cell_type": "code",
   "execution_count": 18,
   "id": "237cda61",
   "metadata": {},
   "outputs": [
    {
     "name": "stdout",
     "output_type": "stream",
     "text": [
      "that movie was just amazing so amazing\n"
     ]
    }
   ],
   "source": [
    "# while were at it lets make a decode function\n",
    "\n",
    "reverse_word_index = {value: key for (key, value) in word_index.items()}\n",
    "\n",
    "def decode_integers(integers):\n",
    "    PAD = 0\n",
    "    text = \"\"\n",
    "    for num in integers:\n",
    "      if num != PAD:\n",
    "        text += reverse_word_index[num] + \" \"\n",
    "\n",
    "    return text[:-1]\n",
    "  \n",
    "print(decode_integers(encoded))"
   ]
  },
  {
   "cell_type": "code",
   "execution_count": 19,
   "id": "322f3851",
   "metadata": {},
   "outputs": [
    {
     "name": "stdout",
     "output_type": "stream",
     "text": [
      "1/1 [==============================] - 0s 400ms/step\n",
      "[0.9283104]\n",
      "1/1 [==============================] - 0s 28ms/step\n",
      "[0.34420106]\n"
     ]
    }
   ],
   "source": [
    "# now time to make a prediction\n",
    "\n",
    "def predict(text):\n",
    "  encoded_text = encode_text(text)\n",
    "  pred = np.zeros((1,250))\n",
    "  pred[0] = encoded_text\n",
    "  result = model.predict(pred) \n",
    "  print(result[0])\n",
    "\n",
    "positive_review = \"That movie was! really loved it and would great watch it again because it was amazingly great\"\n",
    "predict(positive_review)\n",
    "\n",
    "negative_review = \"that movie really sucked. I hated it and wouldn't watch it again. Was one of the worst things I've ever watched\"\n",
    "predict(negative_review)\n"
   ]
  },
  {
   "cell_type": "markdown",
   "id": "18449817",
   "metadata": {},
   "source": [
    "## RNN Play Generator\n",
    "\n",
    "Now time for one of the coolest examples we've seen so far. We are going to use a RNN to generate a play. We will simply show the RNN an example of something we want it to recreate and it will learn how to write a version of it on its own. We'll do this using a character predictive model that will take as input a variable length sequence and predict the next character. We can use the model many times in a row with the output from the last predicition as the input for the next call to generate a sequence.\n",
    "\n",
    "\n",
    "*This guide is based on the following: https://www.tensorflow.org/tutorials/text/text_generation*"
   ]
  },
  {
   "cell_type": "code",
   "execution_count": 20,
   "id": "70d4b11c",
   "metadata": {},
   "outputs": [],
   "source": [
    "# %tensorflow_version 2.x  # this line is not required unless you are in a notebook\n",
    "from keras.preprocessing import sequence\n",
    "import keras\n",
    "import tensorflow as tf\n",
    "import os\n",
    "import numpy as np"
   ]
  },
  {
   "cell_type": "markdown",
   "id": "597653f9",
   "metadata": {},
   "source": [
    "### Dataset\n",
    "For this example, we only need one peice of training data. In fact, we can write our own poem or play and pass that to the network for training if we'd like. However, to make things easy we'll use an extract from a shakesphere play.\n",
    "\n",
    "\n"
   ]
  },
  {
   "cell_type": "code",
   "execution_count": 21,
   "id": "cf9caf06",
   "metadata": {},
   "outputs": [],
   "source": [
    "path_to_file = tf.keras.utils.get_file('shakespeare.txt', 'https://storage.googleapis.com/download.tensorflow.org/data/shakespeare.txt')"
   ]
  },
  {
   "cell_type": "markdown",
   "id": "0e4e7307",
   "metadata": {},
   "source": [
    "### Loading Your Own Data\n",
    "To load your own data, you'll need to upload a file from the dialog below. Then you'll need to follow the steps from above but load in this new file instead.\n",
    "\n",
    "from google.colab import files\n",
    "\n",
    "\n",
    "path_to_file = list(files.upload().keys())[0]\n"
   ]
  },
  {
   "cell_type": "markdown",
   "id": "07ec5e6e",
   "metadata": {},
   "source": [
    "### Read Contents of File\n",
    "Let's look at the contents of the file."
   ]
  },
  {
   "cell_type": "code",
   "execution_count": 22,
   "id": "5a7619dc",
   "metadata": {},
   "outputs": [
    {
     "name": "stdout",
     "output_type": "stream",
     "text": [
      "Length of text: 1115394 characters\n",
      "First Citizen:\n",
      "Before we proceed any further, hear me speak.\n",
      "\n",
      "All:\n",
      "Speak, speak.\n",
      "\n",
      "First Citizen:\n",
      "You are all resolved rather to die than to famish?\n",
      "\n",
      "All:\n",
      "Resolved. resolved.\n",
      "\n",
      "First Citizen:\n",
      "First, you know Caius Marcius is chief enemy to the people.\n",
      "\n"
     ]
    }
   ],
   "source": [
    "# Read, then decode for py2 compat.\n",
    "text = open(path_to_file, 'rb').read().decode(encoding='utf-8')\n",
    "\n",
    "# length of text is the number of characters in it\n",
    "print ('Length of text: {} characters'.format(len(text)))\n",
    "\n",
    "# Take a look at the first 250 characters in text\n",
    "print(text[:250])"
   ]
  },
  {
   "cell_type": "markdown",
   "id": "cd29c268",
   "metadata": {},
   "source": [
    "### Encoding\n",
    "Since this text isn't encoded yet well need to do that ourselves. We are going to encode each unique character as a different integer.\n",
    "\n"
   ]
  },
  {
   "cell_type": "code",
   "execution_count": 23,
   "id": "f71d8882",
   "metadata": {},
   "outputs": [],
   "source": [
    "vocab = sorted(set(text))\n",
    "# Creating a mapping from unique characters to indices\n",
    "char2idx = {u:i for i, u in enumerate(vocab)}\n",
    "idx2char = np.array(vocab)\n",
    "\n",
    "def text_to_int(text):\n",
    "  return np.array([char2idx[c] for c in text])\n",
    "\n",
    "text_as_int = text_to_int(text)"
   ]
  },
  {
   "cell_type": "code",
   "execution_count": 24,
   "id": "31309578",
   "metadata": {},
   "outputs": [
    {
     "name": "stdout",
     "output_type": "stream",
     "text": [
      "Text: First Citizen\n",
      "Encoded: [18 47 56 57 58  1 15 47 58 47 64 43 52]\n"
     ]
    }
   ],
   "source": [
    "# lets look at how part of our text is encoded\n",
    "print(\"Text:\", text[:13])\n",
    "print(\"Encoded:\", text_to_int(text[:13]))"
   ]
  },
  {
   "cell_type": "markdown",
   "id": "6f25664f",
   "metadata": {},
   "source": [
    "And here we will make a function that can convert our numeric values to text.\n"
   ]
  },
  {
   "cell_type": "code",
   "execution_count": 25,
   "id": "9d2c5784",
   "metadata": {},
   "outputs": [
    {
     "name": "stdout",
     "output_type": "stream",
     "text": [
      "First Citizen\n"
     ]
    }
   ],
   "source": [
    "def int_to_text(ints):\n",
    "  try:\n",
    "    ints = ints.numpy()\n",
    "  except:\n",
    "    pass\n",
    "  return ''.join(idx2char[ints])\n",
    "\n",
    "print(int_to_text(text_as_int[:13]))"
   ]
  },
  {
   "cell_type": "markdown",
   "id": "b9da73ca",
   "metadata": {},
   "source": [
    "### Creating Training Examples\n",
    "Remember our task is to feed the model a sequence and have it return to us the next character. This means we need to split our text data from above into many shorter sequences that we can pass to the model as training examples. \n",
    "\n",
    "The training examples we will prepapre will use a *seq_length* sequence as input and a *seq_length* sequence as the output where that sequence is the original sequence shifted one letter to the right. For example:\n",
    "\n",
    "```input: Hell | output: ello```\n",
    "\n",
    "Our first step will be to create a stream of characters from our text data."
   ]
  },
  {
   "cell_type": "code",
   "execution_count": 26,
   "id": "5ad6618c",
   "metadata": {},
   "outputs": [],
   "source": [
    "seq_length = 100  # length of sequence for a training example\n",
    "examples_per_epoch = len(text)//(seq_length+1)\n",
    "\n",
    "# Create training examples / targets\n",
    "char_dataset = tf.data.Dataset.from_tensor_slices(text_as_int)"
   ]
  },
  {
   "cell_type": "markdown",
   "id": "ae4a8c85",
   "metadata": {},
   "source": [
    "Next we can use the batch method to turn this stream of characters into batches of desired length.\n",
    "\n"
   ]
  },
  {
   "cell_type": "code",
   "execution_count": 27,
   "id": "f9d4d33e",
   "metadata": {},
   "outputs": [],
   "source": [
    "sequences = char_dataset.batch(seq_length+1, drop_remainder=True)"
   ]
  },
  {
   "cell_type": "code",
   "execution_count": 28,
   "id": "47baf45a",
   "metadata": {},
   "outputs": [],
   "source": [
    "def split_input_target(chunk):  # for the example: hello\n",
    "    input_text = chunk[:-1]  # hell\n",
    "    target_text = chunk[1:]  # ello\n",
    "    return input_text, target_text  # hell, ello\n",
    "\n",
    "dataset = sequences.map(split_input_target)  # we use map to apply the above function to every entry"
   ]
  },
  {
   "cell_type": "code",
   "execution_count": 29,
   "id": "7d32b7a3",
   "metadata": {},
   "outputs": [
    {
     "name": "stdout",
     "output_type": "stream",
     "text": [
      "\n",
      "\n",
      "EXAMPLE\n",
      "\n",
      "INPUT\n",
      "First Citizen:\n",
      "Before we proceed any further, hear me speak.\n",
      "\n",
      "All:\n",
      "Speak, speak.\n",
      "\n",
      "First Citizen:\n",
      "You\n",
      "\n",
      "OUTPUT\n",
      "irst Citizen:\n",
      "Before we proceed any further, hear me speak.\n",
      "\n",
      "All:\n",
      "Speak, speak.\n",
      "\n",
      "First Citizen:\n",
      "You \n",
      "\n",
      "\n",
      "EXAMPLE\n",
      "\n",
      "INPUT\n",
      "are all resolved rather to die than to famish?\n",
      "\n",
      "All:\n",
      "Resolved. resolved.\n",
      "\n",
      "First Citizen:\n",
      "First, you \n",
      "\n",
      "OUTPUT\n",
      "re all resolved rather to die than to famish?\n",
      "\n",
      "All:\n",
      "Resolved. resolved.\n",
      "\n",
      "First Citizen:\n",
      "First, you k\n"
     ]
    }
   ],
   "source": [
    "for x, y in dataset.take(2):\n",
    "  print(\"\\n\\nEXAMPLE\\n\")\n",
    "  print(\"INPUT\")\n",
    "  print(int_to_text(x))\n",
    "  print(\"\\nOUTPUT\")\n",
    "  print(int_to_text(y))"
   ]
  },
  {
   "cell_type": "markdown",
   "id": "827a30d2",
   "metadata": {},
   "source": [
    "Finally we need to make training batches."
   ]
  },
  {
   "cell_type": "code",
   "execution_count": 30,
   "id": "88ca3d90",
   "metadata": {},
   "outputs": [],
   "source": [
    "BATCH_SIZE = 64\n",
    "VOCAB_SIZE = len(vocab)  # vocab is number of unique characters\n",
    "EMBEDDING_DIM = 256\n",
    "RNN_UNITS = 1024\n",
    "\n",
    "# Buffer size to shuffle the dataset\n",
    "# (TF data is designed to work with possibly infinite sequences,\n",
    "# so it doesn't attempt to shuffle the entire sequence in memory. Instead,\n",
    "# it maintains a buffer in which it shuffles elements).\n",
    "BUFFER_SIZE = 10000\n",
    "\n",
    "data = dataset.shuffle(BUFFER_SIZE).batch(BATCH_SIZE, drop_remainder=True)"
   ]
  },
  {
   "cell_type": "markdown",
   "id": "6eeea51e",
   "metadata": {},
   "source": [
    "### Building the Model\n",
    "Now it is time to build the model. We will use an embedding layer a LSTM and one dense layer that contains a node for each unique character in our training data. The dense layer will give us a probability distribution over all nodes."
   ]
  },
  {
   "cell_type": "code",
   "execution_count": 31,
   "id": "38a0754f",
   "metadata": {},
   "outputs": [
    {
     "name": "stdout",
     "output_type": "stream",
     "text": [
      "Model: \"sequential_2\"\n",
      "_________________________________________________________________\n",
      " Layer (type)                Output Shape              Param #   \n",
      "=================================================================\n",
      " embedding_2 (Embedding)     (64, None, 256)           16640     \n",
      "                                                                 \n",
      " lstm_2 (LSTM)               (64, None, 1024)          5246976   \n",
      "                                                                 \n",
      " dense_2 (Dense)             (64, None, 65)            66625     \n",
      "                                                                 \n",
      "=================================================================\n",
      "Total params: 5,330,241\n",
      "Trainable params: 5,330,241\n",
      "Non-trainable params: 0\n",
      "_________________________________________________________________\n"
     ]
    }
   ],
   "source": [
    "def build_model(vocab_size, embedding_dim, rnn_units, batch_size):\n",
    "  model = tf.keras.Sequential([\n",
    "    tf.keras.layers.Embedding(vocab_size, embedding_dim,\n",
    "                              batch_input_shape=[batch_size, None]),\n",
    "    tf.keras.layers.LSTM(rnn_units,\n",
    "                        return_sequences=True,\n",
    "                        stateful=True,\n",
    "                        recurrent_initializer='glorot_uniform'),\n",
    "    tf.keras.layers.Dense(vocab_size)\n",
    "  ])\n",
    "  return model\n",
    "\n",
    "model = build_model(VOCAB_SIZE,EMBEDDING_DIM, RNN_UNITS, BATCH_SIZE)\n",
    "model.summary()"
   ]
  },
  {
   "cell_type": "markdown",
   "id": "dfe28d2f",
   "metadata": {},
   "source": [
    "### Creating a Loss Function\n",
    "Now we are going to create our own loss function for this problem. This is because our model will output a (64, sequence_length, 65) shaped tensor that represents the probability distribution of each character at each timestep for every sequence in the batch. \n",
    "\n"
   ]
  },
  {
   "cell_type": "code",
   "execution_count": 32,
   "id": "1a4fdb8c",
   "metadata": {},
   "outputs": [
    {
     "name": "stdout",
     "output_type": "stream",
     "text": [
      "(64, 100, 65) # (batch_size, sequence_length, vocab_size)\n",
      "64\n",
      "tf.Tensor(\n",
      "[[[ 7.6180906e-04  6.0898671e-03 -5.0214410e-05 ...  3.0902447e-06\n",
      "    2.1877722e-04 -1.7982491e-03]\n",
      "  [ 7.1845681e-04  5.5869450e-03  4.2105434e-03 ...  5.0215609e-03\n",
      "    3.3227652e-03 -1.6120201e-03]\n",
      "  [ 3.9714323e-03  3.0002315e-03  6.4177397e-03 ...  2.5629343e-03\n",
      "    8.8314591e-03  2.6763310e-03]\n",
      "  ...\n",
      "  [ 4.7838106e-04  1.0461892e-02  2.6702986e-03 ... -2.9930237e-03\n",
      "    4.9268343e-03  6.7470362e-04]\n",
      "  [ 2.6208847e-03  3.5783593e-03 -3.7484227e-03 ... -6.2779696e-03\n",
      "    3.2499596e-03  3.7700115e-03]\n",
      "  [ 7.3323585e-04  6.0478728e-03 -5.7950858e-03 ... -8.5871657e-03\n",
      "    1.7632933e-03  7.1866773e-03]]\n",
      "\n",
      " [[ 4.3920102e-03  7.3899410e-04  4.0659839e-03 ...  1.2651166e-03\n",
      "   -5.8547393e-03  4.8954468e-03]\n",
      "  [ 2.6325413e-03  1.9171139e-03  4.0633138e-05 ...  2.4761059e-03\n",
      "   -8.5888756e-03  8.4712291e-03]\n",
      "  [ 4.5514069e-03 -2.4127039e-04  4.9784752e-03 ...  1.5508785e-03\n",
      "    3.9996341e-04  1.0901256e-02]\n",
      "  ...\n",
      "  [ 3.1539300e-03  1.1859626e-02  2.6188183e-03 ...  3.5020499e-03\n",
      "   -1.3579130e-02  8.2329679e-03]\n",
      "  [ 2.6976760e-03  1.6234826e-02  4.3967441e-03 ...  3.1859488e-03\n",
      "   -1.3540460e-02  1.4585639e-02]\n",
      "  [ 2.4882378e-04  1.6344342e-02  2.0705499e-03 ...  9.9954158e-03\n",
      "   -1.3732612e-02  9.8604476e-03]]\n",
      "\n",
      " [[-3.2766344e-04  2.8688668e-03  3.9204182e-03 ...  3.5409199e-04\n",
      "   -1.1585220e-03 -1.6900551e-03]\n",
      "  [ 3.4720013e-03  1.9832435e-03  7.1778209e-03 ... -1.2029447e-03\n",
      "    5.0172196e-03  2.6571825e-03]\n",
      "  [ 2.1773730e-03 -3.8948385e-03  9.2603569e-04 ...  9.6022250e-04\n",
      "    8.7073613e-03  7.5089699e-03]\n",
      "  ...\n",
      "  [ 6.6108275e-03  2.7461476e-03  2.5111574e-03 ...  3.8344902e-03\n",
      "    4.3249391e-03  1.2219826e-02]\n",
      "  [ 9.6330130e-03  3.5944472e-03  5.2150832e-03 ...  3.4404574e-03\n",
      "   -1.8964906e-03  1.5090967e-02]\n",
      "  [ 6.2959027e-03 -3.4487278e-03 -7.0896675e-04 ...  3.5298713e-03\n",
      "    4.2243032e-03  1.7991640e-02]]\n",
      "\n",
      " ...\n",
      "\n",
      " [[ 2.2536470e-04  3.0161445e-03  2.7454612e-03 ...  9.8829400e-03\n",
      "    4.5715477e-03  3.6167840e-03]\n",
      "  [-1.1722904e-03  3.2698843e-03 -1.2462372e-03 ...  8.4388787e-03\n",
      "   -8.3761546e-04  7.7059399e-03]\n",
      "  [ 1.1992720e-03  5.7657482e-04  3.8722383e-03 ...  5.6473627e-03\n",
      "    6.2614726e-03  1.0306253e-02]\n",
      "  ...\n",
      "  [-3.3404741e-03 -3.6505498e-03  2.2493682e-03 ... -5.9890947e-03\n",
      "    3.4810519e-03  3.1581344e-03]\n",
      "  [-2.1214958e-03  3.9043119e-03  3.1466568e-03 ... -5.4904828e-03\n",
      "    3.2163216e-03 -8.4750028e-04]\n",
      "  [-1.8542528e-03  4.5543788e-03  7.6080374e-03 ...  1.4832092e-04\n",
      "    5.7426374e-03 -1.9277637e-03]]\n",
      "\n",
      " [[-2.2832258e-03  1.8425365e-03 -6.2802564e-03 ... -1.7618693e-03\n",
      "    1.2440293e-03  2.6903991e-03]\n",
      "  [ 9.7269949e-04  7.6610143e-03 -5.6395829e-03 ... -5.1744725e-03\n",
      "   -5.3657945e-03  2.4991343e-04]\n",
      "  [ 3.5314532e-03  1.0228215e-02 -4.9627372e-03 ... -1.1306565e-02\n",
      "   -4.3803770e-03  4.1040163e-03]\n",
      "  ...\n",
      "  [ 3.7083311e-03  2.8919189e-03  7.6993527e-03 ... -3.1549041e-03\n",
      "   -8.6208631e-04  4.5375093e-03]\n",
      "  [ 1.8058826e-03  5.1240637e-03  1.8675951e-03 ... -6.6626156e-03\n",
      "   -1.9230256e-03  7.1485932e-03]\n",
      "  [-1.2815433e-03  3.2936232e-03 -4.7630072e-03 ... -2.1645795e-03\n",
      "    5.8484320e-03 -6.4145145e-04]]\n",
      "\n",
      " [[-2.0443182e-03 -5.3840787e-03 -2.6040012e-05 ... -6.3549064e-04\n",
      "    1.2982197e-04 -5.3274352e-03]\n",
      "  [-1.1161583e-03 -2.5678873e-03 -2.3889088e-03 ...  1.6395721e-04\n",
      "   -4.3987245e-03 -3.9868164e-04]\n",
      "  [ 2.5444424e-03 -3.4301409e-03  3.5448824e-03 ... -6.4229901e-04\n",
      "    3.3064443e-03  3.4226642e-03]\n",
      "  ...\n",
      "  [ 3.4506212e-04  3.0902680e-04 -6.6276486e-03 ... -1.9740216e-03\n",
      "    6.5421364e-03  1.8097339e-02]\n",
      "  [-8.6581777e-04  2.3569237e-04 -7.3175156e-03 ... -3.3530188e-03\n",
      "    3.0869583e-03  2.0160321e-02]\n",
      "  [ 3.4760919e-03 -3.9854762e-04 -5.8045494e-05 ... -4.0221177e-03\n",
      "    8.6363964e-03  1.8113162e-02]]], shape=(64, 100, 65), dtype=float32)\n"
     ]
    }
   ],
   "source": [
    "for input_example_batch, target_example_batch in data.take(1):\n",
    "  example_batch_predictions = model(input_example_batch)  # ask our model for a prediction on our first batch of training data (64 entries)\n",
    "  print(example_batch_predictions.shape, \"# (batch_size, sequence_length, vocab_size)\")  # print out the output shape\n",
    "    \n",
    "# we can see that the predicition is an array of 64 arrays, one for each entry in the batch\n",
    "print(len(example_batch_predictions))\n",
    "print(example_batch_predictions)\n",
    "\n"
   ]
  },
  {
   "cell_type": "code",
   "execution_count": 33,
   "id": "700ebcc2",
   "metadata": {},
   "outputs": [
    {
     "name": "stdout",
     "output_type": "stream",
     "text": [
      "100\n",
      "tf.Tensor(\n",
      "[[ 7.6180906e-04  6.0898671e-03 -5.0214410e-05 ...  3.0902447e-06\n",
      "   2.1877722e-04 -1.7982491e-03]\n",
      " [ 7.1845681e-04  5.5869450e-03  4.2105434e-03 ...  5.0215609e-03\n",
      "   3.3227652e-03 -1.6120201e-03]\n",
      " [ 3.9714323e-03  3.0002315e-03  6.4177397e-03 ...  2.5629343e-03\n",
      "   8.8314591e-03  2.6763310e-03]\n",
      " ...\n",
      " [ 4.7838106e-04  1.0461892e-02  2.6702986e-03 ... -2.9930237e-03\n",
      "   4.9268343e-03  6.7470362e-04]\n",
      " [ 2.6208847e-03  3.5783593e-03 -3.7484227e-03 ... -6.2779696e-03\n",
      "   3.2499596e-03  3.7700115e-03]\n",
      " [ 7.3323585e-04  6.0478728e-03 -5.7950858e-03 ... -8.5871657e-03\n",
      "   1.7632933e-03  7.1866773e-03]], shape=(100, 65), dtype=float32)\n"
     ]
    }
   ],
   "source": [
    "# lets examine one prediction\n",
    "pred = example_batch_predictions[0]\n",
    "print(len(pred))\n",
    "print(pred)\n",
    "# notice this is a 2d array of length 100, where each interior array is the prediction for the next character at each time step"
   ]
  },
  {
   "cell_type": "code",
   "execution_count": 34,
   "id": "469c11d4",
   "metadata": {},
   "outputs": [
    {
     "name": "stdout",
     "output_type": "stream",
     "text": [
      "65\n",
      "tf.Tensor(\n",
      "[ 7.6180906e-04  6.0898671e-03 -5.0214410e-05 -4.8700394e-03\n",
      " -4.0034228e-04 -3.8572997e-03  2.9587466e-03  2.0194470e-03\n",
      "  9.9714589e-04 -2.5224972e-03  3.9771651e-03 -3.5230194e-03\n",
      "  3.4370500e-04  2.5414978e-04  2.4514361e-03  2.3923791e-04\n",
      "  2.4401254e-03 -6.3907583e-03 -7.0576358e-04 -3.9566825e-03\n",
      "  8.9117233e-04 -6.6197533e-03 -3.4069926e-03  2.2134795e-03\n",
      " -3.5944162e-03 -2.2816225e-03 -2.1528096e-03 -2.8715052e-03\n",
      "  5.4193917e-04  4.2208936e-03  3.2841950e-03 -5.8654556e-03\n",
      "  5.0446526e-03  3.0501422e-03 -2.3615693e-03  7.6569687e-04\n",
      " -1.0117368e-03 -3.8921579e-03 -2.2789277e-03 -6.2563922e-06\n",
      "  4.1350606e-03 -2.5888239e-03 -2.2669865e-03  1.2839530e-02\n",
      " -6.5291785e-03 -1.4993865e-03 -1.7704130e-03  2.9524772e-03\n",
      "  3.6187544e-03  3.6556111e-03  2.7686337e-03  4.6786671e-03\n",
      "  7.6267207e-03  1.8253051e-03  2.8680456e-03  1.1078995e-03\n",
      " -2.0990735e-03  1.9946967e-03 -1.9811355e-03 -4.4020370e-04\n",
      "  1.4581851e-03  1.8735820e-03  3.0902447e-06  2.1877722e-04\n",
      " -1.7982491e-03], shape=(65,), dtype=float32)\n"
     ]
    }
   ],
   "source": [
    "# and finally well look at a prediction at the first timestep\n",
    "time_pred = pred[0]\n",
    "print(len(time_pred))\n",
    "print(time_pred)\n",
    "# and of course its 65 values representing the probabillity of each character occuring next"
   ]
  },
  {
   "cell_type": "code",
   "execution_count": 35,
   "id": "c88be9aa",
   "metadata": {},
   "outputs": [
    {
     "data": {
      "text/plain": [
       "'ikCY&?TDk&AP,&O3jj?bJaEnwrId?WLquqR&JFMpnXa?Oter l,\\nL$DigS:sJCZkjzf-r\\nXs,jjkAhGsWv:,KSsIaY?c?a;LCft '"
      ]
     },
     "execution_count": 35,
     "metadata": {},
     "output_type": "execute_result"
    }
   ],
   "source": [
    "# If we want to determine the predicted character we need to sample the output distribution (pick a value based on probabillity)\n",
    "sampled_indices = tf.random.categorical(pred, num_samples=1)\n",
    "\n",
    "# now we can reshape that array and convert all the integers to numbers to see the actual characters\n",
    "sampled_indices = np.reshape(sampled_indices, (1, -1))[0]\n",
    "predicted_chars = int_to_text(sampled_indices)\n",
    "\n",
    "predicted_chars  # and this is what the model predicted for training sequence 1"
   ]
  },
  {
   "cell_type": "markdown",
   "id": "ab68f53d",
   "metadata": {},
   "source": [
    "So now we need to create a loss function that can compare that output to the expected output and give us some numeric value representing how close the two were. "
   ]
  },
  {
   "cell_type": "code",
   "execution_count": 36,
   "id": "3173948e",
   "metadata": {},
   "outputs": [],
   "source": [
    "def loss(labels, logits):\n",
    "  return tf.keras.losses.sparse_categorical_crossentropy(labels, logits, from_logits=True)"
   ]
  },
  {
   "cell_type": "markdown",
   "id": "8f0b2f48",
   "metadata": {},
   "source": [
    "### Compiling the Model\n",
    "At this point we can think of our problem as a classification problem where the model predicts the probabillity of each unique letter coming next. \n"
   ]
  },
  {
   "cell_type": "code",
   "execution_count": 37,
   "id": "298c9cc9",
   "metadata": {},
   "outputs": [],
   "source": [
    "model.compile(optimizer='adam', loss=loss)"
   ]
  },
  {
   "cell_type": "markdown",
   "id": "90dc9ef1",
   "metadata": {},
   "source": [
    "### Creating Checkpoints\n",
    "Now we are going to setup and configure our model to save checkpoinst as it trains. This will allow us to load our model from a checkpoint and continue training it."
   ]
  },
  {
   "cell_type": "code",
   "execution_count": 38,
   "id": "a73ff0dc",
   "metadata": {},
   "outputs": [],
   "source": [
    "# Directory where the checkpoints will be saved\n",
    "checkpoint_dir = './training_checkpoints'\n",
    "# Name of the checkpoint files\n",
    "checkpoint_prefix = os.path.join(checkpoint_dir, \"ckpt_{epoch}\")\n",
    "\n",
    "checkpoint_callback=tf.keras.callbacks.ModelCheckpoint(\n",
    "    filepath=checkpoint_prefix,\n",
    "    save_weights_only=True)"
   ]
  },
  {
   "cell_type": "markdown",
   "id": "2db8660e",
   "metadata": {},
   "source": [
    "### Training\n",
    "Finally, we will start training the model. \n",
    "\n",
    "**If this is taking a while go to Runtime > Change Runtime Type and choose \"GPU\" under hardware accelerator.**\n",
    "\n"
   ]
  },
  {
   "cell_type": "code",
   "execution_count": 39,
   "id": "b3cc7dde",
   "metadata": {},
   "outputs": [
    {
     "name": "stdout",
     "output_type": "stream",
     "text": [
      "Epoch 1/10\n",
      "172/172 [==============================] - 594s 3s/step - loss: 2.5571\n",
      "Epoch 2/10\n",
      "172/172 [==============================] - 611s 4s/step - loss: 1.8770\n",
      "Epoch 3/10\n",
      "172/172 [==============================] - 655s 4s/step - loss: 1.6307\n",
      "Epoch 4/10\n",
      "172/172 [==============================] - 712s 4s/step - loss: 1.4972\n",
      "Epoch 5/10\n",
      "172/172 [==============================] - 710s 4s/step - loss: 1.4175\n",
      "Epoch 6/10\n",
      "172/172 [==============================] - 675s 4s/step - loss: 1.3603\n",
      "Epoch 7/10\n",
      "172/172 [==============================] - 714s 4s/step - loss: 1.3143\n",
      "Epoch 8/10\n",
      "172/172 [==============================] - 657s 4s/step - loss: 1.2743\n",
      "Epoch 9/10\n",
      "172/172 [==============================] - 662s 4s/step - loss: 1.2377\n",
      "Epoch 10/10\n",
      "172/172 [==============================] - 641s 4s/step - loss: 1.2017\n"
     ]
    }
   ],
   "source": [
    "history = model.fit(data, epochs=10, callbacks=[checkpoint_callback])"
   ]
  },
  {
   "cell_type": "markdown",
   "id": "57bb4db9",
   "metadata": {},
   "source": [
    "### Loading the Model\n",
    "We'll rebuild the model from a checkpoint using a batch_size of 1 so that we can feed one peice of text to the model and have it make a prediction."
   ]
  },
  {
   "cell_type": "code",
   "execution_count": null,
   "id": "4a0ddf2c",
   "metadata": {},
   "outputs": [],
   "source": [
    "model = build_model(VOCAB_SIZE, EMBEDDING_DIM, RNN_UNITS, batch_size=1)"
   ]
  },
  {
   "cell_type": "markdown",
   "id": "44910d0f",
   "metadata": {},
   "source": [
    "Once the model is finished training, we can find the **lastest checkpoint** that stores the models weights using the following line.\n",
    "\n"
   ]
  },
  {
   "cell_type": "code",
   "execution_count": null,
   "id": "82f94d6c",
   "metadata": {},
   "outputs": [],
   "source": [
    "model.load_weights(tf.train.latest_checkpoint(checkpoint_dir))\n",
    "model.build(tf.TensorShape([1, None]))"
   ]
  },
  {
   "cell_type": "code",
   "execution_count": null,
   "id": "61512d2b",
   "metadata": {},
   "outputs": [],
   "source": [
    "We can load **any checkpoint** we want by specifying the exact file to load."
   ]
  }
 ],
 "metadata": {
  "kernelspec": {
   "display_name": "Python 3 (ipykernel)",
   "language": "python",
   "name": "python3"
  },
  "language_info": {
   "codemirror_mode": {
    "name": "ipython",
    "version": 3
   },
   "file_extension": ".py",
   "mimetype": "text/x-python",
   "name": "python",
   "nbconvert_exporter": "python",
   "pygments_lexer": "ipython3",
   "version": "3.8.10"
  }
 },
 "nbformat": 4,
 "nbformat_minor": 5
}
